{
 "cells": [
  {
   "cell_type": "code",
   "execution_count": 1,
   "id": "0213ce2c-75f4-4852-915a-cbe7d741801e",
   "metadata": {},
   "outputs": [],
   "source": [
    "import scipy.io as sio\n",
    "import numpy as np\n",
    "import pandas as pd \n",
    "import matplotlib.pyplot as plt\n",
    "from sklearn.model_selection import train_test_split\n",
    "from sklearn.svm import SVC \n",
    "from sklearn.metrics import accuracy_score\n",
    "from sklearn.model_selection import cross_val_score\n",
    "from sklearn.model_selection import KFold"
   ]
  },
  {
   "cell_type": "code",
   "execution_count": 8,
   "id": "b03a9a1b-b0f6-4832-a965-8583f65ea3c7",
   "metadata": {},
   "outputs": [],
   "source": [
    "#load al preprocess all data\n",
    "soundData = sio.loadmat('soundData_small.mat') #open data .mat file\n",
    "soundData =  pd.DataFrame(soundData['sound_data_small'])#get only actual data and convert to dataframe\n",
    "soundData = (soundData-soundData.mean())/soundData.std()#normalisation\n",
    "\n",
    "soundData_HL = sio.loadmat('soundData_HL_small.mat') #open data .mat file\n",
    "soundData_HL =  pd.DataFrame(soundData_HL['sound_data_small'])#get only actual data and convert to dataframe\n",
    "soundData_HL = (soundData_HL-soundData_HL.mean())/soundData_HL.std()#normalisation\n",
    "\n",
    "soundData_CI = sio.loadmat('soundData_CI_small.mat') #open data .mat file\n",
    "soundData_CI =  pd.DataFrame(soundData_CI['sound_data_small'])#get only actual data and convert to dataframe\n",
    "soundData_CI = (soundData_CI-soundData_CI.mean())/soundData_CI.std()#normalisation\n",
    "\n",
    "soundData_afterCI = sio.loadmat('soundData_afterCI_small.mat') #open data .mat file\n",
    "soundData_afterCI =  pd.DataFrame(soundData_afterCI['sound_data_small'])#get only actual data and convert to dataframe\n",
    "soundData_afterCI = (soundData_afterCI-soundData_afterCI.mean())/soundData_afterCI.std()#normalisation"
   ]
  },
  {
   "cell_type": "code",
   "execution_count": 3,
   "id": "3909ed36-3776-4acf-998e-f897aa7469b2",
   "metadata": {},
   "outputs": [],
   "source": [
    "# labels = pd.DataFrame(sio.loadmat('Stim288.mat')['labels'][0])\n",
    "labels = sio.loadmat('Stim288.mat')['labels'][0]\n",
    "# labels = labels.transpose()\n",
    "pd.DataFrame(labels)\n",
    "soundLabels = pd.DataFrame(columns = ['label'])\n",
    "for label in labels:\n",
    "    soundLabels.loc[len(soundLabels.index)] = label#somehow the original array isnt good for svm, so i copy the data manually, idk why this does work\n",
    "soundLabels = np.asarray(soundLabels).ravel() #flatten the array so numpy is happy\n",
    "# print(np.asarray(labels))"
   ]
  },
  {
   "cell_type": "code",
   "execution_count": 17,
   "id": "c6d75ba5-6f48-427e-b747-a2c170de985e",
   "metadata": {},
   "outputs": [
    {
     "name": "stdout",
     "output_type": "stream",
     "text": [
      "label\n",
      "animal    36\n",
      "music     36\n",
      "nature    36\n",
      "speech    36\n",
      "tools     36\n",
      "voice     36\n",
      "dtype: int64\n",
      "Healthy class Accuracy (normalized): 0.6111111111111112\n"
     ]
    }
   ],
   "source": [
    "#train test split\n",
    "x_train, x_test, y_train, y_test = train_test_split(soundData, soundLabels, test_size=0.25, shuffle = True, stratify=soundLabels)\n",
    "print(pd.DataFrame(y_train, columns = [\"label\"]).groupby([\"label\"]).size())\n",
    "\n",
    "#create svm classifier\n",
    "clf = SVC(kernel='rbf')\n",
    "\n",
    "#fit svm on training data\n",
    "clf.fit(x_train, y_train)\n",
    "\n",
    "predictions = clf.predict(x_test)\n",
    "accuracy = accuracy_score(y_test, predictions)\n",
    "print(\"Healthy class Accuracy (normalized): \" + str(accuracy))"
   ]
  },
  {
   "cell_type": "code",
   "execution_count": 18,
   "id": "402f0953-8e03-4039-b502-4bf3a3b56f8a",
   "metadata": {},
   "outputs": [
    {
     "name": "stdout",
     "output_type": "stream",
     "text": [
      "Healthy class avg accuracy from CV: 0.6458333333333334\n"
     ]
    }
   ],
   "source": [
    "#k-fold cross validation\n",
    "k = 4\n",
    "kf = KFold(n_splits=k, random_state=None, shuffle = True)\n",
    "result = cross_val_score(clf , soundData, soundLabels, cv = kf)\n",
    " \n",
    "print(\"Healthy class avg accuracy from CV: {}\".format(result.mean()))"
   ]
  },
  {
   "cell_type": "code",
   "execution_count": 19,
   "id": "784ee36f-8d1d-4a21-b14b-16b966edf98e",
   "metadata": {},
   "outputs": [
    {
     "name": "stdout",
     "output_type": "stream",
     "text": [
      "Hearing loss class Accuracy: 0.5416666666666666\n",
      "Cochlear implant class Accuracy: 0.4861111111111111\n",
      "Cochlear implant after Hearing loss class Accuracy: 0.8090277777777778\n"
     ]
    }
   ],
   "source": [
    "#accuracy on other scenarios\n",
    "#create svm classifier with all healthy data instead of train set\n",
    "clf2 = clf\n",
    "#fit svm on training data\n",
    "clf2.fit(soundData, soundLabels)\n",
    "\n",
    "predictions_HL = clf2.predict(soundData_HL)\n",
    "accuracy_HL = accuracy_score(soundLabels, predictions_HL)\n",
    "print(\"Hearing loss class Accuracy: \" + str(accuracy_HL))\n",
    "\n",
    "predictions_CI = clf2.predict(soundData_CI)\n",
    "accuracy_CI = accuracy_score(soundLabels, predictions_CI)\n",
    "print(\"Cochlear implant class Accuracy: \" + str(accuracy_CI))\n",
    "\n",
    "predictions_afterCI = clf2.predict(soundData_afterCI)\n",
    "accuracy_afterCI = accuracy_score(soundLabels, predictions_afterCI)\n",
    "print(\"Cochlear implant after Hearing loss class Accuracy: \" + str(accuracy_afterCI))"
   ]
  }
 ],
 "metadata": {
  "kernelspec": {
   "display_name": "Python 3 (ipykernel)",
   "language": "python",
   "name": "python3"
  },
  "language_info": {
   "codemirror_mode": {
    "name": "ipython",
    "version": 3
   },
   "file_extension": ".py",
   "mimetype": "text/x-python",
   "name": "python",
   "nbconvert_exporter": "python",
   "pygments_lexer": "ipython3",
   "version": "3.9.12"
  }
 },
 "nbformat": 4,
 "nbformat_minor": 5
}
